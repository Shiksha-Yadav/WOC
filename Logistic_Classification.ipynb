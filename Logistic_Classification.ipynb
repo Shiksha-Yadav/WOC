{
  "nbformat": 4,
  "nbformat_minor": 0,
  "metadata": {
    "colab": {
      "provenance": [],
      "authorship_tag": "ABX9TyORxFdKH2tWu1f4oZgW2xs8",
      "include_colab_link": true
    },
    "kernelspec": {
      "name": "python3",
      "display_name": "Python 3"
    },
    "language_info": {
      "name": "python"
    }
  },
  "cells": [
    {
      "cell_type": "markdown",
      "metadata": {
        "id": "view-in-github",
        "colab_type": "text"
      },
      "source": [
        "<a href=\"https://colab.research.google.com/github/Shiksha-Yadav/WOC/blob/main/Logistic_Classification.ipynb\" target=\"_parent\"><img src=\"https://colab.research.google.com/assets/colab-badge.svg\" alt=\"Open In Colab\"/></a>"
      ]
    },
    {
      "cell_type": "code",
      "execution_count": null,
      "metadata": {
        "colab": {
          "base_uri": "https://localhost:8080/",
          "height": 611
        },
        "id": "visiIy3oQW8i",
        "outputId": "59b4af9e-4762-4eda-d8c6-9794859a70df"
      },
      "outputs": [
        {
          "output_type": "display_data",
          "data": {
            "text/plain": [
              "<Figure size 640x480 with 1 Axes>"
            ],
            "image/png": "[encoded data removed]"
          },
          "metadata": {}
        },
        {
          "output_type": "stream",
          "name": "stdout",
          "text": [
            "For iterations: 100000\n",
            "Model accuracy on test set: 93.5%\n",
            "Final weights: [ -1.03194539  -0.54639992  -0.27162673  -5.83730487  -0.97453027\n",
            "  24.76165649  -0.76529331  -0.96090694   3.85826637  -0.0766903\n",
            "  -1.32005892  -0.35717559  -1.2363734    3.03350258   2.68822078\n",
            " -11.92606417   9.28028164  -9.27755126  -4.21954761  -0.91879315]\n",
            "Final bias: -3.3100411016630384\n",
            "F1 Score on test set: 0.8917042693509197\n"
          ]
        }
      ],
      "source": [
        "import numpy as np\n",
        "import pandas as pd\n",
        "import matplotlib.pyplot as plt\n",
        "\n",
        "# loading the dataset\n",
        "def data(dataset):\n",
        "  df= pd.read_csv(dataset)\n",
        "  return df\n",
        "\n",
        "# normalization of dataset to ensure equal contribution of each feature\n",
        "def normalizationx(df, min=None, max=None):\n",
        "  min = df.min() if min is None else min\n",
        "  max = df.max() if max is None else max\n",
        "  norm_df= (df-min)/(max-min)\n",
        "  return norm_df, min, max\n",
        "\n",
        "def normalizationy(df, min=None, max=None):\n",
        "  min = df.min() if min is None else min\n",
        "  max = df.max() if max is None else max\n",
        "  norm_df= (df-min)/(max-min)\n",
        "  return norm_df, min, max\n",
        "\n",
        "# denormalize to get values for test dataset\n",
        "def denorm(normal_df, max, min):\n",
        "  return (normal_df*(max-min) + min)\n",
        "\n",
        "# separate training and testing data\n",
        "def matrix(df):\n",
        "  x= df.iloc[1:,1:-1].values # all columns (features) except the last one (target)\n",
        "  y= df.iloc[1:, -1].values # last column (target)\n",
        "  test_size= 0.2\n",
        "  rows = x.shape[0]\n",
        "  train_size = int(rows * (1 - test_size))\n",
        "  x_train = x[:train_size]   # First 80% for training\n",
        "  x_test = x[train_size:]    # Remaining 20% for testing\n",
        "  y_train = y[:train_size]   # First 80% of target for training\n",
        "  y_test = y[train_size:]    # Remaining 20% of target for testing\n",
        "  return x_train, x_test, y_train, y_test\n",
        "\n",
        "def sigmoid(z):\n",
        "  sig= 1/(1+ np.exp(-z))\n",
        "  return sig\n",
        "\n",
        "def compute_cost(x, y, wt, bias):\n",
        "  m = len(y)\n",
        "  predictions = sigmoid(np.dot(x, wt) + bias)\n",
        "  cost = -(1/m) * np.sum(y * np.log(predictions) + (1 - y) * np.log(1 - predictions))\n",
        "  return cost\n",
        "\n",
        "def gradient_descent(x, y, weights, bias, learning_rate, iterations):\n",
        "  m = len(y)\n",
        "  cost_history = []\n",
        "  for i in range(iterations):\n",
        "    predictions = sigmoid(np.dot(x, weights) + bias)\n",
        "    dw = (1/m) * np.dot(x.T, (predictions - y))\n",
        "    db = (1/m) * np.sum(predictions - y)\n",
        "    weights -= learning_rate * dw\n",
        "    bias -= learning_rate * db\n",
        "    if i % 100 == 0:\n",
        "      cost = compute_cost(x, y, weights, bias)\n",
        "      cost_history.append(cost)\n",
        "  return weights, bias, cost_history\n",
        "\n",
        "def predict(x, wt, bias):\n",
        "  predictions= sigmoid(np.dot(x, wt)+ bias)\n",
        "  return (predictions >= 0.5).astype(int)\n",
        "\n",
        "def f1_score(y_true, y_pred):\n",
        "  TP = np.sum((y_true == 1) & (y_pred == 1))\n",
        "  FP = np.sum((y_true == 0) & (y_pred == 1))\n",
        "  FN = np.sum((y_true == 1) & (y_pred == 0))\n",
        "  precision = TP / (TP + FP) if (TP + FP) != 0 else 0\n",
        "  recall = TP / (TP + FN) if (TP + FN) != 0 else 0\n",
        "  f1 = 2 * (precision * recall) / (precision + recall) if (precision + recall) != 0 else 0\n",
        "  return f1\n",
        "\n",
        "def plot_cost(costs):\n",
        "  plt.plot(costs)\n",
        "  plt.xlabel(\"Iterations (x100)\")\n",
        "  plt.ylabel(\"Cost (Binary Cross-Entropy)\")\n",
        "  plt.title(\"Cost Function Progression\")\n",
        "  plt.show()\n",
        "\n",
        "# Visualize the predictions against true values\n",
        "def plot_predictions(y_true, y_pred, title=\"True vs Predicted\"):\n",
        "  plt.scatter(y_true, y_pred, color='blue', label='Predictions')  # Scatter plot of true vs predicted\n",
        "  plt.plot([0, 1], [0, 1], color='red', label='Ideal Line')  # Ideal line (y=x)\n",
        "  plt.xlabel('True Values')\n",
        "  plt.ylabel('Predicted Values')\n",
        "  plt.title(title)\n",
        "  plt.legend()\n",
        "  plt.show()\n",
        "\n",
        "if __name__ == \"__main__\":\n",
        "  dataset = \"binary_classification_train.csv\"\n",
        "  df1= data(dataset) # dataset\n",
        "  x_train, x_test, y_train, y_test= matrix(df1)\n",
        "  x_train_norm, min_x, max_x= normalizationx(x_train)\n",
        "  x_test_norm, _, _= normalizationx(x_test, min_x, max_x)\n",
        "  #y_train_norm, min_y, max_y= normalizationy(y_train)\n",
        "  #y_test_norm, _, _= normalizationy(y_test, min_y, max_y)\n",
        "  weights_initial= np.zeros(x_train_norm.shape[1])\n",
        "  bias= 0\n",
        "  learning_rate=0.1\n",
        "  iterations=100000\n",
        "  weights, bias, costs = gradient_descent(x_train_norm, y_train, weights_initial, bias, learning_rate, iterations)\n",
        "  plot_cost(costs)\n",
        "  y_pred_train = predict(x_train_norm, weights, bias)\n",
        "  y_pred_test = predict(x_test_norm, weights, bias)\n",
        "  #y_pred_test_denorm = denorm(y_pred_test, max_y, min_y)\n",
        "  #y_test_denorm = denorm(y_test_norm, max_y, min_y)\n",
        "  print(f\"For iterations: {iterations}\")\n",
        "  accuracy = np.mean(y_pred_test == y_test) * 100\n",
        "  print(f\"Model accuracy on test set: {accuracy}%\")\n",
        "  #plot_predictions(y_test, y_pred_test, title=\"Test Set: True vs Predicted Values\")\n",
        "  print(f\"Final weights: {weights}\")\n",
        "  print(f\"Final bias: {bias}\")\n",
        "  print(f\"F1 Score on test set: {f1_score(y_test, y_pred_test)}\")\n"
      ]
    },
    {
      "cell_type": "code",
      "source": [
        "df_testdataset= data('binary_classification_test.csv')\n",
        "test_ = df_testdataset.iloc[1:,1:].values\n",
        "#x_test1, _, _=normalizationx(test_, min_x, max_x)\n",
        "y_predict_test = predict(test_, weights, bias)\n",
        "#y_test_denormed = denorm(y_predict_test, max_y, min_y)\n",
        "print(y_predict_test)"
      ],
      "metadata": {
        "colab": {
          "base_uri": "https://localhost:8080/"
        },
        "id": "oRnXK0b5VrUw",
        "outputId": "9b9628cd-73a4-49b1-c00c-28b9f96e2c56"
      },
      "execution_count": null,
      "outputs": [
        {
          "output_type": "stream",
          "name": "stdout",
          "text": [
            "[1 0 0 ... 1 1 0]\n"
          ]
        },
        {
          "output_type": "stream",
          "name": "stderr",
          "text": [
            "<ipython-input-3-416cd60b6202>:41: RuntimeWarning: overflow encountered in exp\n",
            "  sig= 1/(1+ np.exp(-z))\n"
          ]
        }
      ]
    }
  ]
}