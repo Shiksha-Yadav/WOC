{
  "nbformat": 4,
  "nbformat_minor": 0,
  "metadata": {
    "colab": {
      "provenance": [],
      "authorship_tag": "ABX9TyMt6VG7HQ/d4G2cH2oQc8En",
      "include_colab_link": true
    },
    "kernelspec": {
      "name": "python3",
      "display_name": "Python 3"
    },
    "language_info": {
      "name": "python"
    }
  },
  "cells": [
    {
      "cell_type": "markdown",
      "metadata": {
        "id": "view-in-github",
        "colab_type": "text"
      },
      "source": [
        "<a href=\"https://colab.research.google.com/github/Shiksha-Yadav/WOC/blob/main/KNN.ipynb\" target=\"_parent\"><img src=\"https://colab.research.google.com/assets/colab-badge.svg\" alt=\"Open In Colab\"/></a>"
      ]
    },
    {
      "cell_type": "code",
      "execution_count": null,
      "metadata": {
        "colab": {
          "base_uri": "https://localhost:8080/"
        },
        "id": "l7fd7-yvWV_E",
        "outputId": "ed0bdfb7-2d01-4aff-8902-c862bcdad59e"
      },
      "outputs": [
        {
          "output_type": "stream",
          "name": "stdout",
          "text": [
            "Accuracy of KNN with k=3: 0.94\n"
          ]
        }
      ],
      "source": [
        "import numpy as np\n",
        "import pandas as pd\n",
        "import matplotlib.pyplot as plt\n",
        "\n",
        "# loading the dataset\n",
        "def data(dataset):\n",
        "  df= pd.read_csv(dataset)\n",
        "  return df\n",
        "\n",
        "# normalization of dataset to ensure equal contribution of each feature\n",
        "def normalizationx(df, min=None, max=None):\n",
        "  min = df.min() if min is None else min\n",
        "  max = df.max() if max is None else max\n",
        "  norm_df= (df-min)/(max-min)\n",
        "  return norm_df, min, max\n",
        "\n",
        "def normalizationy(df, min=None, max=None):\n",
        "  min = df.min() if min is None else min\n",
        "  max = df.max() if max is None else max\n",
        "  norm_df= (df-min)/(max-min)\n",
        "  return norm_df, min, max\n",
        "\n",
        "# denormalize to get values for test dataset\n",
        "def denorm(normal_df, max, min):\n",
        "  return (normal_df*(max-min) + min)\n",
        "\n",
        "# separate training and testing data\n",
        "def matrix(df):\n",
        "  x= df.iloc[1:,1:-1].values # all columns (features) except the last one (target)\n",
        "  y= df.iloc[1:, -1].values # last column (target)\n",
        "  test_size= 0.2\n",
        "  rows = x.shape[0]\n",
        "  train_size = int(rows * (1 - test_size))\n",
        "  x_train = x[:train_size]   # First 80% for training\n",
        "  x_test = x[train_size:]    # Remaining 20% for testing\n",
        "  y_train = y[:train_size]   # First 80% of target for training\n",
        "  y_test = y[train_size:]    # Remaining 20% of target for testing\n",
        "  return x_train, x_test, y_train, y_test\n",
        "\n",
        "def distance(x1, x2):\n",
        "  return np.sqrt(np.sum((x1-x2)**2))\n",
        "\n",
        "def predict(Xtrain, ytrain, x, k):\n",
        "  dist= [distance(x, xtrain) for xtrain in Xtrain ]\n",
        "  index= np.argsort(dist)[:k]\n",
        "  y= [y_train[i] for i in index]\n",
        "  targets, counts = np.unique(y, return_counts=True)\n",
        "  return targets[np.argmax(counts)]\n",
        "\n",
        "def prediction(Xtrain, ytrain, Xtest, k):\n",
        "  return np.array([predict(Xtrain, ytrain, x, k) for x in Xtest])\n",
        "\n",
        "def _accuracy(y_pred, y_test):\n",
        "  return np.mean(y_pred == y_test)\n",
        "\n",
        "if __name__ == \"__main__\":\n",
        "  dataset = \"multi_classification_train.csv\"\n",
        "  df1= data(dataset) # dataset\n",
        "  x_train, x_test, y_train, y_test= matrix(df1)\n",
        "  #x_train_norm, min_x, max_x= normalizationx(x_train)\n",
        "  #x_test_norm, _, _= normalizationx(x_test, min_x, max_x)\n",
        "  #y_train_norm, min_y, max_y= normalizationy(y_train)\n",
        "  #y_test_norm, _, _= normalizationy(y_test, min_y, max_y)\n",
        "  k=3\n",
        "  y_predict= prediction(x_train, y_train, x_test, k)\n",
        "  accuracy = _accuracy(y_predict, y_test)\n",
        "  print(f'Accuracy of KNN with k={k}: {accuracy:.2f}')\n",
        "\n"
      ]
    },
    {
      "cell_type": "code",
      "source": [
        "test_dataset= \"multi_classification_test.csv\"\n",
        "df= data(test_dataset)\n",
        "test_= df.iloc[1:,1:].values\n",
        "y_test_= prediction(x_train, y_train, test_, k)\n",
        "print(y_test_)"
      ],
      "metadata": {
        "colab": {
          "base_uri": "https://localhost:8080/"
        },
        "id": "hLMGHjCWvhDk",
        "outputId": "fb3b9126-6b8e-43e7-84d8-bb93997f6e0a"
      },
      "execution_count": null,
      "outputs": [
        {
          "output_type": "stream",
          "name": "stdout",
          "text": [
            "[1 1 1 ... 3 4 1]\n"
          ]
        }
      ]
    }
  ]
}